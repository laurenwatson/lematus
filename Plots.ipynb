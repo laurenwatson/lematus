{
 "cells": [
  {
   "cell_type": "code",
   "execution_count": 6,
   "metadata": {},
   "outputs": [
    {
     "data": {
      "text/plain": [
       "{'batch_size': 60,\n",
       " 'beamFreq': 10000,\n",
       " 'beam_size': 12,\n",
       " 'clip_c': 1,\n",
       " 'datasets': ['./models_20/Croatian-20-char-context-base1/data/train-sources',\n",
       "  './models_20/Croatian-20-char-context-base1/data/train-targets'],\n",
       " 'dec_base_recurrence_transition_depth': 2,\n",
       " 'dec_deep_context': False,\n",
       " 'dec_depth': 2,\n",
       " 'dec_high_recurrence_transition_depth': 1,\n",
       " 'decay_c': 0,\n",
       " 'dictionaries': ['./models_20/Croatian-20-char-context-base1/data/train-sources.json',\n",
       "  './models_20/Croatian-20-char-context-base1/data/train-targets.json'],\n",
       " 'dim_per_factor': [300],\n",
       " 'dispFreq': 1000,\n",
       " 'dropout_embedding': 0.2,\n",
       " 'dropout_hidden': 0.2,\n",
       " 'dropout_source': 0,\n",
       " 'dropout_target': 0,\n",
       " 'embedding_size': 300,\n",
       " 'enc_depth': 2,\n",
       " 'enc_recurrence_transition_depth': 1,\n",
       " 'factors': 1,\n",
       " 'finish_after': 10000000,\n",
       " 'keep_train_set_in_memory': False,\n",
       " 'learning_rate': 0.0001,\n",
       " 'map_decay_c': 0,\n",
       " 'max_epochs': 1000,\n",
       " 'maxibatch_size': 20,\n",
       " 'maxlen': 75,\n",
       " 'model_version': 0.2,\n",
       " 'n_best': False,\n",
       " 'n_threads': 5,\n",
       " 'normalize': True,\n",
       " 'optimizer': 'adam',\n",
       " 'output_hidden_activation': 'tanh',\n",
       " 'patience': 10,\n",
       " 'prior_model': None,\n",
       " 'reload': None,\n",
       " 'reload_training_progress': True,\n",
       " 'run_validation': False,\n",
       " 'sampleFreq': 10000,\n",
       " 'saveFreq': 30000,\n",
       " 'saveto': './models_20/Croatian-20-char-context-base1/model.npz',\n",
       " 'shuffle_each_epoch': True,\n",
       " 'sort_by_length': True,\n",
       " 'source_dataset': './models_20/Croatian-20-char-context-base1/data/train-sources',\n",
       " 'source_dicts': ['./models_20/Croatian-20-char-context-base1/data/train-sources.json'],\n",
       " 'source_vocab_sizes': [69],\n",
       " 'state_size': 100,\n",
       " 'summaryFreq': 0,\n",
       " 'summary_dir': None,\n",
       " 'target_dataset': './models_20/Croatian-20-char-context-base1/data/train-targets',\n",
       " 'target_dict': './models_20/Croatian-20-char-context-base1/data/train-targets.json',\n",
       " 'target_vocab_size': 65,\n",
       " 'tie_decoder_embeddings': False,\n",
       " 'token_batch_size': 0,\n",
       " 'translate_valid': False,\n",
       " 'translation_maxlen': 200,\n",
       " 'use_dropout': True,\n",
       " 'use_layer_norm': False,\n",
       " 'validFreq': 3330,\n",
       " 'valid_batch_size': 80,\n",
       " 'valid_datasets': ['./models_20/Croatian-20-char-context-base1/data/dev-sources',\n",
       "  './models_20/Croatian-20-char-context-base1/data/dev-targets'],\n",
       " 'valid_source_dataset': './models_20/Croatian-20-char-context-base1/data/dev-sources',\n",
       " 'valid_target_dataset': './models_20/Croatian-20-char-context-base1/data/dev-targets',\n",
       " 'valid_token_batch_size': 0}"
      ]
     },
     "execution_count": 6,
     "metadata": {},
     "output_type": "execute_result"
    }
   ],
   "source": [
    "import json\n",
    "import matplotlib.pyplot as plt\n",
    "\n",
    "json1_file = open('models_20/Croatian-20-char-context-base1/model.npz.json')\n",
    "json1_str = json1_file.read()\n",
    "json1_data = json.loads(json1_str)\n",
    "json1_data"
   ]
  },
  {
   "cell_type": "code",
   "execution_count": 8,
   "metadata": {},
   "outputs": [
    {
     "data": {
      "text/plain": [
       "[14.598999510735274,\n",
       " 5.548381101571489,\n",
       " 1.7646868764136452,\n",
       " 1.2926735692860385,\n",
       " 1.0652477505902207,\n",
       " 0.9039315447476692,\n",
       " 0.8275838153424229,\n",
       " 0.7664408144571171,\n",
       " 0.7247418792066055,\n",
       " 0.6937922433615477,\n",
       " 0.6697065258600624,\n",
       " 0.6745750915776071,\n",
       " 0.6534939959889398,\n",
       " 0.6493079063817617,\n",
       " 0.647537489238197]"
      ]
     },
     "execution_count": 8,
     "metadata": {},
     "output_type": "execute_result"
    }
   ],
   "source": [
    "json1_file = open('models_20/Croatian-20-char-context-base1/model.npz.progress.json')\n",
    "json1_str = json1_file.read()\n",
    "json1_data = json.loads(json1_str)\n",
    "json1_data['history_errs']"
   ]
  },
  {
   "cell_type": "code",
   "execution_count": 9,
   "metadata": {},
   "outputs": [
    {
     "data": {
      "text/plain": [
       "[<matplotlib.lines.Line2D at 0x106845400>]"
      ]
     },
     "execution_count": 9,
     "metadata": {},
     "output_type": "execute_result"
    },
    {
     "data": {
      "image/png": "[encoded data removed]",
      "text/plain": [
       "<Figure size 432x288 with 1 Axes>"
      ]
     },
     "metadata": {},
     "output_type": "display_data"
    }
   ],
   "source": [
    "plt.plot(json1_data['history_errs'])"
   ]
  },
  {
   "cell_type": "code",
   "execution_count": 23,
   "metadata": {},
   "outputs": [],
   "source": [
    "with open('outputs/output_20_Croatian_base1.txt') as f:\n",
    "    losses = []\n",
    "    for line in f:\n",
    "        if len(line.split(' '))>3 and line.split(' ')[3]=='Epoch:':\n",
    "            losses.append(line.split(' ')[8])\n"
   ]
  },
  {
   "cell_type": "code",
   "execution_count": 32,
   "metadata": {},
   "outputs": [
    {
     "data": {
      "text/plain": [
       "[<matplotlib.lines.Line2D at 0x106ffb550>]"
      ]
     },
     "execution_count": 32,
     "metadata": {},
     "output_type": "execute_result"
    },
    {
     "data": {
      "image/png": "[encoded data removed]",
      "text/plain": [
       "<Figure size 432x288 with 1 Axes>"
      ]
     },
     "metadata": {},
     "output_type": "display_data"
    }
   ],
   "source": [
    "losses = [float(loss) for loss in losses]\n",
    "\n",
    "plt.plot(losses)"
   ]
  }
 ],
 "metadata": {
  "kernelspec": {
   "display_name": "Python 3",
   "language": "python",
   "name": "python3"
  },
  "language_info": {
   "codemirror_mode": {
    "name": "ipython",
    "version": 3
   },
   "file_extension": ".py",
   "mimetype": "text/x-python",
   "name": "python",
   "nbconvert_exporter": "python",
   "pygments_lexer": "ipython3",
   "version": "3.6.4"
  }
 },
 "nbformat": 4,
 "nbformat_minor": 2
}
